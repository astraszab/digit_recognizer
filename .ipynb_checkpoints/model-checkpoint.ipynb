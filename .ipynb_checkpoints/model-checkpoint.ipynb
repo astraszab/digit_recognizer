{
 "cells": [
  {
   "cell_type": "code",
   "execution_count": 1,
   "metadata": {},
   "outputs": [
    {
     "name": "stderr",
     "output_type": "stream",
     "text": [
      "Using TensorFlow backend.\n"
     ]
    }
   ],
   "source": [
    "%matplotlib inline\n",
    "\n",
    "import numpy as np\n",
    "import keras\n",
    "\n",
    "from matplotlib import pyplot as plt\n",
    "from mnist import MNIST\n",
    "from keras.models import Model\n",
    "from keras.layers import Dense, Dropout, Flatten, Input\n",
    "from keras.layers import Conv2D, MaxPooling2D\n",
    "from keras.utils.vis_utils import plot_model"
   ]
  },
  {
   "cell_type": "code",
   "execution_count": 2,
   "metadata": {},
   "outputs": [],
   "source": [
    "# Loading data from MNIST dataset\n",
    "\n",
    "mndata = MNIST('data')\n",
    "\n",
    "X_train, y_train_orig = [np.array(ls) for ls in mndata.load_training()]\n",
    "X_test, y_test_orig = [np.array(ls) for ls in mndata.load_testing()]"
   ]
  },
  {
   "cell_type": "code",
   "execution_count": 3,
   "metadata": {},
   "outputs": [],
   "source": [
    "X_train = X_train.astype('float32')\n",
    "X_test = X_test.astype('float32')"
   ]
  },
  {
   "cell_type": "code",
   "execution_count": 4,
   "metadata": {
    "scrolled": true
   },
   "outputs": [
    {
     "name": "stdout",
     "output_type": "stream",
     "text": [
      "X_train shape is: (60000, 784)\n",
      "y_train shape is: (60000,)\n",
      "X_test shape is: (10000, 784)\n",
      "y_test shape is: (10000,)\n"
     ]
    }
   ],
   "source": [
    "# Original data shapes\n",
    "print('X_train shape is: {}'.format(X_train.shape))\n",
    "print('y_train shape is: {}'.format(y_train_orig.shape))\n",
    "print('X_test shape is: {}'.format(X_test.shape))\n",
    "print('y_test shape is: {}'.format(y_test_orig.shape))"
   ]
  },
  {
   "cell_type": "code",
   "execution_count": 5,
   "metadata": {},
   "outputs": [],
   "source": [
    "img_width = np.sqrt(X_train.shape[1]).astype(int)\n",
    "train_size = X_train.shape[0]\n",
    "test_size = X_test.shape[0]\n",
    "num_channels = 1"
   ]
  },
  {
   "cell_type": "code",
   "execution_count": 6,
   "metadata": {},
   "outputs": [],
   "source": [
    "# Reshaping data\n",
    "X_train = np.reshape(X_train, newshape=(train_size, img_width, img_width, num_channels))\n",
    "X_test = np.reshape(X_test, newshape=(test_size, img_width, img_width, num_channels))"
   ]
  },
  {
   "cell_type": "code",
   "execution_count": 7,
   "metadata": {
    "scrolled": true
   },
   "outputs": [
    {
     "name": "stdout",
     "output_type": "stream",
     "text": [
      "Label: 3\n"
     ]
    },
    {
     "data": {
      "text/plain": [
       "<matplotlib.image.AxesImage at 0x7f55d01289b0>"
      ]
     },
     "execution_count": 7,
     "metadata": {},
     "output_type": "execute_result"
    },
    {
     "data": {
      "image/png": "[encoded data removed]",
      "text/plain": [
       "<Figure size 432x288 with 1 Axes>"
      ]
     },
     "metadata": {
      "needs_background": "light"
     },
     "output_type": "display_data"
    }
   ],
   "source": [
    "# Example of an image\n",
    "i = 7\n",
    "\n",
    "print('Label: {}'.format(y_train_orig[i]))\n",
    "plt.imshow(X_train[i, :, :, 0], cmap='gray')"
   ]
  },
  {
   "cell_type": "code",
   "execution_count": 8,
   "metadata": {},
   "outputs": [],
   "source": [
    "# Normalizing input\n",
    "X_train /= 255\n",
    "X_test /= 255"
   ]
  },
  {
   "cell_type": "code",
   "execution_count": 9,
   "metadata": {},
   "outputs": [],
   "source": [
    "num_classes = 10\n",
    "\n",
    "Y_train = keras.utils.to_categorical(y_train_orig, num_classes)\n",
    "Y_test = keras.utils.to_categorical(y_test_orig, num_classes)"
   ]
  },
  {
   "cell_type": "code",
   "execution_count": 10,
   "metadata": {},
   "outputs": [
    {
     "name": "stdout",
     "output_type": "stream",
     "text": [
      "X_train shape is: (60000, 28, 28, 1)\n",
      "Y_train shape is: (60000, 10)\n",
      "X_test shape is: (10000, 28, 28, 1)\n",
      "Y_test shape is: (10000, 10)\n"
     ]
    }
   ],
   "source": [
    "# Data shapes after preprocessing\n",
    "print('X_train shape is: {}'.format(X_train.shape))\n",
    "print('Y_train shape is: {}'.format(Y_train.shape))\n",
    "print('X_test shape is: {}'.format(X_test.shape))\n",
    "print('Y_test shape is: {}'.format(Y_test.shape))"
   ]
  },
  {
   "cell_type": "code",
   "execution_count": 11,
   "metadata": {},
   "outputs": [],
   "source": [
    "def build_model(img_width, num_channels, num_classes):\n",
    "    '''Builds CNN model'''\n",
    "    X_input = Input(batch_shape=(None, img_width, img_width, num_channels))\n",
    "    X = Conv2D(32, kernel_size=(3, 3), activation='relu')(X_input)\n",
    "    X = Conv2D(64, kernel_size=(3, 3), activation='relu')(X)\n",
    "    X = MaxPooling2D(pool_size=(2, 2))(X)\n",
    "    X = Dropout(0.25)(X)\n",
    "    X = Flatten()(X)\n",
    "    X = Dense(128, activation='relu')(X)\n",
    "    X = Dropout(0.5)(X)\n",
    "    Y = Dense(num_classes, activation='softmax')(X)\n",
    "    model = Model(X_input, Y)\n",
    "    return model"
   ]
  },
  {
   "cell_type": "code",
   "execution_count": 12,
   "metadata": {},
   "outputs": [
    {
     "name": "stdout",
     "output_type": "stream",
     "text": [
      "WARNING:tensorflow:From /home/uladzislaw/anaconda3/lib/python3.7/site-packages/tensorflow/python/framework/op_def_library.py:263: colocate_with (from tensorflow.python.framework.ops) is deprecated and will be removed in a future version.\n",
      "Instructions for updating:\n",
      "Colocations handled automatically by placer.\n",
      "WARNING:tensorflow:From /home/uladzislaw/anaconda3/lib/python3.7/site-packages/keras/backend/tensorflow_backend.py:3445: calling dropout (from tensorflow.python.ops.nn_ops) with keep_prob is deprecated and will be removed in a future version.\n",
      "Instructions for updating:\n",
      "Please use `rate` instead of `keep_prob`. Rate should be set to `rate = 1 - keep_prob`.\n"
     ]
    }
   ],
   "source": [
    "# Building a model\n",
    "\n",
    "model = build_model(img_width, num_channels, num_classes)"
   ]
  },
  {
   "cell_type": "code",
   "execution_count": 13,
   "metadata": {},
   "outputs": [],
   "source": [
    "# Compiling a model\n",
    "\n",
    "model.compile(loss=keras.losses.categorical_crossentropy,\n",
    "              optimizer=keras.optimizers.Adadelta(),\n",
    "              metrics=['accuracy'])"
   ]
  },
  {
   "cell_type": "code",
   "execution_count": 14,
   "metadata": {},
   "outputs": [
    {
     "name": "stdout",
     "output_type": "stream",
     "text": [
      "WARNING:tensorflow:From /home/uladzislaw/anaconda3/lib/python3.7/site-packages/tensorflow/python/ops/math_ops.py:3066: to_int32 (from tensorflow.python.ops.math_ops) is deprecated and will be removed in a future version.\n",
      "Instructions for updating:\n",
      "Use tf.cast instead.\n",
      "Train on 60000 samples, validate on 10000 samples\n",
      "Epoch 1/12\n",
      "60000/60000 [==============================] - 45s 747us/step - loss: 0.2621 - acc: 0.9191 - val_loss: 0.0618 - val_acc: 0.9807\n",
      "Epoch 2/12\n",
      "60000/60000 [==============================] - 46s 766us/step - loss: 0.0860 - acc: 0.9744 - val_loss: 0.0381 - val_acc: 0.9871\n",
      "Epoch 3/12\n",
      "60000/60000 [==============================] - 50s 826us/step - loss: 0.0655 - acc: 0.9809 - val_loss: 0.0356 - val_acc: 0.9868\n",
      "Epoch 4/12\n",
      "60000/60000 [==============================] - 50s 836us/step - loss: 0.0535 - acc: 0.9837 - val_loss: 0.0315 - val_acc: 0.9898\n",
      "Epoch 5/12\n",
      "60000/60000 [==============================] - 48s 796us/step - loss: 0.0452 - acc: 0.9864 - val_loss: 0.0346 - val_acc: 0.9888\n",
      "Epoch 6/12\n",
      "60000/60000 [==============================] - 47s 791us/step - loss: 0.0399 - acc: 0.9881 - val_loss: 0.0274 - val_acc: 0.9899\n",
      "Epoch 7/12\n",
      "60000/60000 [==============================] - 46s 767us/step - loss: 0.0359 - acc: 0.9890 - val_loss: 0.0259 - val_acc: 0.9911\n",
      "Epoch 8/12\n",
      "60000/60000 [==============================] - 48s 798us/step - loss: 0.0332 - acc: 0.9897 - val_loss: 0.0273 - val_acc: 0.9911\n",
      "Epoch 9/12\n",
      "60000/60000 [==============================] - 53s 876us/step - loss: 0.0300 - acc: 0.9910 - val_loss: 0.0243 - val_acc: 0.9919\n",
      "Epoch 10/12\n",
      "60000/60000 [==============================] - 50s 827us/step - loss: 0.0284 - acc: 0.9913 - val_loss: 0.0242 - val_acc: 0.9925\n",
      "Epoch 11/12\n",
      "60000/60000 [==============================] - 49s 817us/step - loss: 0.0272 - acc: 0.9917 - val_loss: 0.0263 - val_acc: 0.9917\n",
      "Epoch 12/12\n",
      "60000/60000 [==============================] - 53s 887us/step - loss: 0.0253 - acc: 0.9919 - val_loss: 0.0233 - val_acc: 0.9919\n"
     ]
    },
    {
     "data": {
      "text/plain": [
       "<keras.callbacks.History at 0x7f55cf6f8a20>"
      ]
     },
     "execution_count": 14,
     "metadata": {},
     "output_type": "execute_result"
    }
   ],
   "source": [
    "# Training a model\n",
    "\n",
    "model.fit(X_train, Y_train,\n",
    "          batch_size=128,\n",
    "          epochs=12,\n",
    "          verbose=1,\n",
    "          validation_data=(X_test, Y_test))"
   ]
  },
  {
   "cell_type": "code",
   "execution_count": 15,
   "metadata": {},
   "outputs": [
    {
     "name": "stdout",
     "output_type": "stream",
     "text": [
      "Test loss: 0.023343717768202987\n",
      "Test accuracy: 0.9919\n"
     ]
    }
   ],
   "source": [
    "# Evaluating a model\n",
    "\n",
    "score = model.evaluate(X_test, Y_test, verbose=0)\n",
    "print('Test loss:', score[0])\n",
    "print('Test accuracy:', score[1])"
   ]
  },
  {
   "cell_type": "code",
   "execution_count": 16,
   "metadata": {},
   "outputs": [],
   "source": [
    "# Saving a model\n",
    "\n",
    "model.save('mnist_model.h5')"
   ]
  },
  {
   "cell_type": "code",
   "execution_count": 17,
   "metadata": {},
   "outputs": [],
   "source": [
    "# Plotting a model\n",
    "\n",
    "plot_model(model, to_file='mnist_model_plot.png', show_shapes=True, show_layer_names=True)"
   ]
  }
 ],
 "metadata": {
  "kernelspec": {
   "display_name": "Python 3",
   "language": "python",
   "name": "python3"
  },
  "language_info": {
   "codemirror_mode": {
    "name": "ipython",
    "version": 3
   },
   "file_extension": ".py",
   "mimetype": "text/x-python",
   "name": "python",
   "nbconvert_exporter": "python",
   "pygments_lexer": "ipython3",
   "version": "3.7.1"
  }
 },
 "nbformat": 4,
 "nbformat_minor": 2
}
